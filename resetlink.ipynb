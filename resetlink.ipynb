{
 "cells": [
  {
   "cell_type": "code",
   "execution_count": null,
   "metadata": {},
   "outputs": [
    {
     "name": "stdout",
     "output_type": "stream",
     "text": [
      " * Serving Flask app \"__main__\" (lazy loading)\n",
      " * Environment: production\n",
      "   WARNING: This is a development server. Do not use it in a production deployment.\n",
      "   Use a production WSGI server instead.\n",
      " * Debug mode: off\n"
     ]
    },
    {
     "name": "stderr",
     "output_type": "stream",
     "text": [
      " * Running on http://127.0.0.1:2222/ (Press CTRL+C to quit)\n",
      "127.0.0.1 - - [16/Mar/2020 05:58:43] \"GET / HTTP/1.1\" 200 -\n",
      "127.0.0.1 - - [16/Mar/2020 05:58:43] \"GET /assets/stylesheet.css?m=1584007644.0875306 HTTP/1.1\" 200 -\n",
      "127.0.0.1 - - [16/Mar/2020 05:58:43] \"GET /_dash-component-suites/dash_renderer/react@16.v1_2_2m1583924370.8.6.min.js HTTP/1.1\" 200 -\n",
      "127.0.0.1 - - [16/Mar/2020 05:58:43] \"GET /_dash-component-suites/dash_renderer/polyfill@7.v1_2_2m1583924370.7.0.min.js HTTP/1.1\" 200 -\n",
      "127.0.0.1 - - [16/Mar/2020 05:58:43] \"GET /_dash-component-suites/dash_renderer/prop-types@15.v1_2_2m1583924370.7.2.min.js HTTP/1.1\" 200 -\n",
      "127.0.0.1 - - [16/Mar/2020 05:58:43] \"GET /_dash-component-suites/dash_renderer/react-dom@16.v1_2_2m1583924370.8.6.min.js HTTP/1.1\" 200 -\n",
      "127.0.0.1 - - [16/Mar/2020 05:58:43] \"GET /_dash-component-suites/dash_table/bundle.v4_6_1m1583924377.js HTTP/1.1\" 200 -\n",
      "127.0.0.1 - - [16/Mar/2020 05:58:43] \"GET /_dash-component-suites/dash_bootstrap_components/_components/dash_bootstrap_components.v0_8_3m1583924366.min.js HTTP/1.1\" 200 -\n",
      "127.0.0.1 - - [16/Mar/2020 05:58:43] \"GET /_dash-component-suites/dash_core_components/dash_core_components.v1_8_1m1583924375.min.js HTTP/1.1\" 200 -\n",
      "127.0.0.1 - - [16/Mar/2020 05:58:43] \"GET /_dash-component-suites/dash_core_components/dash_core_components-shared.v1_8_1m1583924375.js HTTP/1.1\" 200 -\n",
      "127.0.0.1 - - [16/Mar/2020 05:58:43] \"GET /_dash-component-suites/dash_html_components/dash_html_components.v1_0_2m1578316182.min.js HTTP/1.1\" 200 -\n",
      "127.0.0.1 - - [16/Mar/2020 05:58:43] \"GET /_dash-component-suites/dash_renderer/dash_renderer.v1_2_2m1583924370.min.js HTTP/1.1\" 200 -\n",
      "127.0.0.1 - - [16/Mar/2020 05:58:44] \"GET /_dash-layout HTTP/1.1\" 200 -\n",
      "127.0.0.1 - - [16/Mar/2020 05:58:44] \"GET /_dash-dependencies HTTP/1.1\" 200 -\n",
      "127.0.0.1 - - [16/Mar/2020 05:58:44] \"GET /_favicon.ico?v=1.9.1 HTTP/1.1\" 200 -\n",
      "127.0.0.1 - - [16/Mar/2020 05:58:44] \"POST /_dash-update-component HTTP/1.1\" 200 -\n",
      "127.0.0.1 - - [16/Mar/2020 05:59:12] \"POST /_dash-update-component HTTP/1.1\" 200 -\n"
     ]
    }
   ],
   "source": [
    "import numpy as np \n",
    "import pandas as pd \n",
    "import pymysql\n",
    "from sqlalchemy import create_engine\n",
    "from sklearn.metrics import confusion_matrix \n",
    "from sklearn.model_selection import train_test_split \n",
    "from sklearn.tree import DecisionTreeClassifier \n",
    "from sklearn.metrics import accuracy_score \n",
    "from sklearn.metrics import classification_report \n",
    "from pandas import ExcelWriter\n",
    "from pandas import ExcelFile\n",
    "from sklearn import preprocessing\n",
    "%matplotlib notebook\n",
    "import matplotlib.pyplot as plt, mpld3\n",
    "from matplotlib import rcParams\n",
    "from matplotlib.cm import rainbow\n",
    "import dash\n",
    "import dash_core_components as dcc\n",
    "import dash_html_components as html\n",
    "from dash.dependencies import State, Input, Output\n",
    "import dash_bootstrap_components as dbc\n",
    "import dash_auth\n",
    "from flask import Flask, redirect\n",
    "from pathlib import Path\n",
    "import dash_table\n",
    "import plotly.graph_objs as go\n",
    "engine = create_engine('mysql+pymysql://root:@localhost/student')\n",
    "mycursor= engine.connect()\n",
    "app10=dash.Dash(external_stylesheets=[dbc.themes.CERULEAN])\n",
    "app10.config['suppress_callback_exceptions']=True\n",
    "app10.layout=html.Div(style={'backgroundColor':'white'},children=[\n",
    "        html.H1('STUDENT PERFORMANCE ANALYSIS SYSTEM USING MACHINE LEARNING',style={'text':'bold','textAlign': 'center','color':'red'}),\n",
    "        html.Br(),html.Br(),html.Br(),html.Br(),html.Br(),\n",
    "        html.Div([dbc.Label(\"Enter Email   :\"),dcc.Input(id='inp12',type='email',placeholder=\"EMAIL\"),\n",
    "        html.Br(),html.Br(),\n",
    "        dbc.Label(\"New Password      :\"),dcc.Input(id='inp10',type='password',placeholder=\"Password\"),\n",
    "        html.Br(),html.Br(),\n",
    "        dbc.Label(\"Confrim Password  :\"), dcc.Input(id='inp11',type='password',placeholder=\"Password\")],style={'textAlign': 'center'})\n",
    "        ,html.Br(),\n",
    "        html.Div(dbc.Button('submit', id='button10',color=\"primary\", className=\"mr-1\",n_clicks=0),style={'textAlign': 'center'}),\n",
    "        html.Div(id='page3',style={'textAlign': 'center','backgroundColor':'white'})])\n",
    "@app10.callback(dash.dependencies.Output('page3', 'children'),\n",
    "              [dash.dependencies.Input('button10', 'n_clicks')],\n",
    "              state=[State('inp12','value'),State('inp10','value'),State('inp11','value')])\n",
    "def compute10(n_clicks,inp12,inp10,inp11):\n",
    "      if((int(n_clicks)>0)):  \n",
    "        if((len(inp12)>0) and inp10==inp11):\n",
    "            #print(inp11)\n",
    "            pk=[]\n",
    "            mycursor.execute(\"delete from passwords where email='{}'\".format(inp12))\n",
    "            mycursor.execute(\"insert into passwords (email,password) values(%s,%s)\",(inp12,inp11))\n",
    "            return html.Br(),html.Br(),html.Label('successfully updated')\n",
    "        else:\n",
    "            return  html.Label('possword confirmation not success')\n",
    "\n",
    "\n",
    "\n",
    "\n",
    "\n",
    "if __name__ == '__main__':\n",
    "    app10.run_server(port=2222)\n"
   ]
  }
 ],
 "metadata": {
  "kernelspec": {
   "display_name": "Python 3",
   "language": "python",
   "name": "python3"
  },
  "language_info": {
   "codemirror_mode": {
    "name": "ipython",
    "version": 3
   },
   "file_extension": ".py",
   "mimetype": "text/x-python",
   "name": "python",
   "nbconvert_exporter": "python",
   "pygments_lexer": "ipython3",
   "version": "3.7.4"
  }
 },
 "nbformat": 4,
 "nbformat_minor": 2
}
